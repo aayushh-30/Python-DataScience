{
 "cells": [
  {
   "cell_type": "code",
   "execution_count": 33,
   "metadata": {},
   "outputs": [],
   "source": [
    "import pandas as pd"
   ]
  },
  {
   "cell_type": "code",
   "execution_count": 79,
   "metadata": {},
   "outputs": [],
   "source": [
    "data_file_1 = pd.read_csv(\"zomato.csv\")"
   ]
  },
  {
   "cell_type": "code",
   "execution_count": 80,
   "metadata": {},
   "outputs": [
    {
     "data": {
      "text/html": [
       "<div>\n",
       "<style scoped>\n",
       "    .dataframe tbody tr th:only-of-type {\n",
       "        vertical-align: middle;\n",
       "    }\n",
       "\n",
       "    .dataframe tbody tr th {\n",
       "        vertical-align: top;\n",
       "    }\n",
       "\n",
       "    .dataframe thead th {\n",
       "        text-align: right;\n",
       "    }\n",
       "</style>\n",
       "<table border=\"1\" class=\"dataframe\">\n",
       "  <thead>\n",
       "    <tr style=\"text-align: right;\">\n",
       "      <th></th>\n",
       "      <th>Unnamed: 0.1</th>\n",
       "      <th>Unnamed: 0</th>\n",
       "      <th>restaurant name</th>\n",
       "      <th>restaurant type</th>\n",
       "      <th>rate (out of 5)</th>\n",
       "      <th>num of ratings</th>\n",
       "      <th>avg cost (two people)</th>\n",
       "      <th>online_order</th>\n",
       "      <th>table booking</th>\n",
       "      <th>cuisines type</th>\n",
       "      <th>area</th>\n",
       "      <th>local address</th>\n",
       "    </tr>\n",
       "  </thead>\n",
       "  <tbody>\n",
       "    <tr>\n",
       "      <th>0</th>\n",
       "      <td>0</td>\n",
       "      <td>0</td>\n",
       "      <td>#FeelTheROLL</td>\n",
       "      <td>Quick Bites</td>\n",
       "      <td>3.4</td>\n",
       "      <td>7</td>\n",
       "      <td>200.0</td>\n",
       "      <td>No</td>\n",
       "      <td>No</td>\n",
       "      <td>Fast Food</td>\n",
       "      <td>Bellandur</td>\n",
       "      <td>Bellandur</td>\n",
       "    </tr>\n",
       "    <tr>\n",
       "      <th>1</th>\n",
       "      <td>1</td>\n",
       "      <td>1</td>\n",
       "      <td>#L-81 Cafe</td>\n",
       "      <td>Quick Bites</td>\n",
       "      <td>3.9</td>\n",
       "      <td>48</td>\n",
       "      <td>400.0</td>\n",
       "      <td>Yes</td>\n",
       "      <td>No</td>\n",
       "      <td>Fast Food, Beverages</td>\n",
       "      <td>Byresandra,Tavarekere,Madiwala</td>\n",
       "      <td>HSR</td>\n",
       "    </tr>\n",
       "    <tr>\n",
       "      <th>2</th>\n",
       "      <td>2</td>\n",
       "      <td>2</td>\n",
       "      <td>#refuel</td>\n",
       "      <td>Cafe</td>\n",
       "      <td>3.7</td>\n",
       "      <td>37</td>\n",
       "      <td>400.0</td>\n",
       "      <td>Yes</td>\n",
       "      <td>No</td>\n",
       "      <td>Cafe, Beverages</td>\n",
       "      <td>Bannerghatta Road</td>\n",
       "      <td>Bannerghatta Road</td>\n",
       "    </tr>\n",
       "  </tbody>\n",
       "</table>\n",
       "</div>"
      ],
      "text/plain": [
       "   Unnamed: 0.1  Unnamed: 0 restaurant name restaurant type  rate (out of 5)  \\\n",
       "0             0           0    #FeelTheROLL     Quick Bites              3.4   \n",
       "1             1           1      #L-81 Cafe     Quick Bites              3.9   \n",
       "2             2           2         #refuel            Cafe              3.7   \n",
       "\n",
       "   num of ratings  avg cost (two people) online_order table booking  \\\n",
       "0               7                  200.0           No            No   \n",
       "1              48                  400.0          Yes            No   \n",
       "2              37                  400.0          Yes            No   \n",
       "\n",
       "          cuisines type                            area      local address  \n",
       "0             Fast Food                       Bellandur          Bellandur  \n",
       "1  Fast Food, Beverages  Byresandra,Tavarekere,Madiwala                HSR  \n",
       "2       Cafe, Beverages               Bannerghatta Road  Bannerghatta Road  "
      ]
     },
     "execution_count": 80,
     "metadata": {},
     "output_type": "execute_result"
    }
   ],
   "source": [
    "data_file_1.head(3)"
   ]
  },
  {
   "cell_type": "markdown",
   "metadata": {},
   "source": [
    "removed the serial number column"
   ]
  },
  {
   "cell_type": "code",
   "execution_count": 82,
   "metadata": {},
   "outputs": [],
   "source": [
    "data_file_1.drop(data_file_1.columns[0],axis=1,inplace=True)"
   ]
  },
  {
   "cell_type": "code",
   "execution_count": 83,
   "metadata": {},
   "outputs": [
    {
     "data": {
      "text/html": [
       "<div>\n",
       "<style scoped>\n",
       "    .dataframe tbody tr th:only-of-type {\n",
       "        vertical-align: middle;\n",
       "    }\n",
       "\n",
       "    .dataframe tbody tr th {\n",
       "        vertical-align: top;\n",
       "    }\n",
       "\n",
       "    .dataframe thead th {\n",
       "        text-align: right;\n",
       "    }\n",
       "</style>\n",
       "<table border=\"1\" class=\"dataframe\">\n",
       "  <thead>\n",
       "    <tr style=\"text-align: right;\">\n",
       "      <th></th>\n",
       "      <th>restaurant name</th>\n",
       "      <th>restaurant type</th>\n",
       "      <th>rate (out of 5)</th>\n",
       "      <th>num of ratings</th>\n",
       "      <th>avg cost (two people)</th>\n",
       "      <th>online_order</th>\n",
       "      <th>table booking</th>\n",
       "      <th>cuisines type</th>\n",
       "      <th>area</th>\n",
       "      <th>local address</th>\n",
       "    </tr>\n",
       "  </thead>\n",
       "  <tbody>\n",
       "    <tr>\n",
       "      <th>0</th>\n",
       "      <td>#FeelTheROLL</td>\n",
       "      <td>Quick Bites</td>\n",
       "      <td>3.4</td>\n",
       "      <td>7</td>\n",
       "      <td>200.0</td>\n",
       "      <td>No</td>\n",
       "      <td>No</td>\n",
       "      <td>Fast Food</td>\n",
       "      <td>Bellandur</td>\n",
       "      <td>Bellandur</td>\n",
       "    </tr>\n",
       "    <tr>\n",
       "      <th>1</th>\n",
       "      <td>#L-81 Cafe</td>\n",
       "      <td>Quick Bites</td>\n",
       "      <td>3.9</td>\n",
       "      <td>48</td>\n",
       "      <td>400.0</td>\n",
       "      <td>Yes</td>\n",
       "      <td>No</td>\n",
       "      <td>Fast Food, Beverages</td>\n",
       "      <td>Byresandra,Tavarekere,Madiwala</td>\n",
       "      <td>HSR</td>\n",
       "    </tr>\n",
       "  </tbody>\n",
       "</table>\n",
       "</div>"
      ],
      "text/plain": [
       "  restaurant name restaurant type  rate (out of 5)  num of ratings  \\\n",
       "0    #FeelTheROLL     Quick Bites              3.4               7   \n",
       "1      #L-81 Cafe     Quick Bites              3.9              48   \n",
       "\n",
       "   avg cost (two people) online_order table booking         cuisines type  \\\n",
       "0                  200.0           No            No             Fast Food   \n",
       "1                  400.0          Yes            No  Fast Food, Beverages   \n",
       "\n",
       "                             area local address  \n",
       "0                       Bellandur     Bellandur  \n",
       "1  Byresandra,Tavarekere,Madiwala           HSR  "
      ]
     },
     "execution_count": 83,
     "metadata": {},
     "output_type": "execute_result"
    }
   ],
   "source": [
    "data_file_1.head(2)"
   ]
  },
  {
   "cell_type": "code",
   "execution_count": 84,
   "metadata": {},
   "outputs": [
    {
     "data": {
      "text/plain": [
       "restaurant name           0\n",
       "restaurant type           0\n",
       "rate (out of 5)          68\n",
       "num of ratings            0\n",
       "avg cost (two people)    57\n",
       "online_order              0\n",
       "table booking             0\n",
       "cuisines type             0\n",
       "area                      0\n",
       "local address             0\n",
       "dtype: int64"
      ]
     },
     "execution_count": 84,
     "metadata": {},
     "output_type": "execute_result"
    }
   ],
   "source": [
    "data_file_1.isnull().sum()"
   ]
  },
  {
   "cell_type": "code",
   "execution_count": 85,
   "metadata": {},
   "outputs": [],
   "source": [
    "data_file_1[\"rate (out of 5)\"] = data_file_1[\"rate (out of 5)\"].fillna(0)"
   ]
  },
  {
   "cell_type": "code",
   "execution_count": 86,
   "metadata": {},
   "outputs": [
    {
     "data": {
      "text/html": [
       "<div>\n",
       "<style scoped>\n",
       "    .dataframe tbody tr th:only-of-type {\n",
       "        vertical-align: middle;\n",
       "    }\n",
       "\n",
       "    .dataframe tbody tr th {\n",
       "        vertical-align: top;\n",
       "    }\n",
       "\n",
       "    .dataframe thead th {\n",
       "        text-align: right;\n",
       "    }\n",
       "</style>\n",
       "<table border=\"1\" class=\"dataframe\">\n",
       "  <thead>\n",
       "    <tr style=\"text-align: right;\">\n",
       "      <th></th>\n",
       "      <th>rate (out of 5)</th>\n",
       "      <th>num of ratings</th>\n",
       "      <th>avg cost (two people)</th>\n",
       "    </tr>\n",
       "  </thead>\n",
       "  <tbody>\n",
       "    <tr>\n",
       "      <th>count</th>\n",
       "      <td>7105.000000</td>\n",
       "      <td>7105.000000</td>\n",
       "      <td>7048.000000</td>\n",
       "    </tr>\n",
       "    <tr>\n",
       "      <th>mean</th>\n",
       "      <td>3.480619</td>\n",
       "      <td>188.921042</td>\n",
       "      <td>540.286464</td>\n",
       "    </tr>\n",
       "    <tr>\n",
       "      <th>std</th>\n",
       "      <td>0.574133</td>\n",
       "      <td>592.171049</td>\n",
       "      <td>462.902305</td>\n",
       "    </tr>\n",
       "    <tr>\n",
       "      <th>min</th>\n",
       "      <td>0.000000</td>\n",
       "      <td>1.000000</td>\n",
       "      <td>40.000000</td>\n",
       "    </tr>\n",
       "    <tr>\n",
       "      <th>25%</th>\n",
       "      <td>3.200000</td>\n",
       "      <td>16.000000</td>\n",
       "      <td>300.000000</td>\n",
       "    </tr>\n",
       "    <tr>\n",
       "      <th>50%</th>\n",
       "      <td>3.500000</td>\n",
       "      <td>40.000000</td>\n",
       "      <td>400.000000</td>\n",
       "    </tr>\n",
       "    <tr>\n",
       "      <th>75%</th>\n",
       "      <td>3.800000</td>\n",
       "      <td>128.000000</td>\n",
       "      <td>600.000000</td>\n",
       "    </tr>\n",
       "    <tr>\n",
       "      <th>max</th>\n",
       "      <td>4.900000</td>\n",
       "      <td>16345.000000</td>\n",
       "      <td>6000.000000</td>\n",
       "    </tr>\n",
       "  </tbody>\n",
       "</table>\n",
       "</div>"
      ],
      "text/plain": [
       "       rate (out of 5)  num of ratings  avg cost (two people)\n",
       "count      7105.000000     7105.000000            7048.000000\n",
       "mean          3.480619      188.921042             540.286464\n",
       "std           0.574133      592.171049             462.902305\n",
       "min           0.000000        1.000000              40.000000\n",
       "25%           3.200000       16.000000             300.000000\n",
       "50%           3.500000       40.000000             400.000000\n",
       "75%           3.800000      128.000000             600.000000\n",
       "max           4.900000    16345.000000            6000.000000"
      ]
     },
     "execution_count": 86,
     "metadata": {},
     "output_type": "execute_result"
    }
   ],
   "source": [
    "data_file_1.describe()"
   ]
  },
  {
   "cell_type": "code",
   "execution_count": 87,
   "metadata": {},
   "outputs": [
    {
     "data": {
      "text/plain": [
       "(7105, 10)"
      ]
     },
     "execution_count": 87,
     "metadata": {},
     "output_type": "execute_result"
    }
   ],
   "source": [
    "data_file_1.shape"
   ]
  },
  {
   "cell_type": "code",
   "execution_count": 88,
   "metadata": {},
   "outputs": [
    {
     "name": "stdout",
     "output_type": "stream",
     "text": [
      "<class 'pandas.core.frame.DataFrame'>\n",
      "RangeIndex: 7105 entries, 0 to 7104\n",
      "Data columns (total 10 columns):\n",
      " #   Column                 Non-Null Count  Dtype  \n",
      "---  ------                 --------------  -----  \n",
      " 0   restaurant name        7105 non-null   object \n",
      " 1   restaurant type        7105 non-null   object \n",
      " 2   rate (out of 5)        7105 non-null   float64\n",
      " 3   num of ratings         7105 non-null   int64  \n",
      " 4   avg cost (two people)  7048 non-null   float64\n",
      " 5   online_order           7105 non-null   object \n",
      " 6   table booking          7105 non-null   object \n",
      " 7   cuisines type          7105 non-null   object \n",
      " 8   area                   7105 non-null   object \n",
      " 9   local address          7105 non-null   object \n",
      "dtypes: float64(2), int64(1), object(7)\n",
      "memory usage: 555.2+ KB\n"
     ]
    }
   ],
   "source": [
    "data_file_1.info()"
   ]
  },
  {
   "cell_type": "code",
   "execution_count": 89,
   "metadata": {},
   "outputs": [],
   "source": [
    "def Boolean_Conversion(x):\n",
    "    if x == \"No\":\n",
    "        return 0\n",
    "    else:\n",
    "        return 1"
   ]
  },
  {
   "cell_type": "code",
   "execution_count": 90,
   "metadata": {},
   "outputs": [],
   "source": [
    "data_file_1[\"table booking\"] = data_file_1[\"table booking\"].apply(Boolean_Conversion)"
   ]
  },
  {
   "cell_type": "code",
   "execution_count": 91,
   "metadata": {},
   "outputs": [],
   "source": [
    "data_file_1[\"online_order\"] = data_file_1[\"online_order\"].apply(Boolean_Conversion)"
   ]
  },
  {
   "cell_type": "code",
   "execution_count": 92,
   "metadata": {},
   "outputs": [],
   "source": [
    "data_file_1['online_order'] = data_file_1['online_order'].astype(bool)\n",
    "\n"
   ]
  },
  {
   "cell_type": "code",
   "execution_count": 93,
   "metadata": {},
   "outputs": [],
   "source": [
    "data_file_1['table booking'] = data_file_1['table booking'].astype(bool)"
   ]
  },
  {
   "cell_type": "code",
   "execution_count": 94,
   "metadata": {},
   "outputs": [
    {
     "data": {
      "text/html": [
       "<div>\n",
       "<style scoped>\n",
       "    .dataframe tbody tr th:only-of-type {\n",
       "        vertical-align: middle;\n",
       "    }\n",
       "\n",
       "    .dataframe tbody tr th {\n",
       "        vertical-align: top;\n",
       "    }\n",
       "\n",
       "    .dataframe thead th {\n",
       "        text-align: right;\n",
       "    }\n",
       "</style>\n",
       "<table border=\"1\" class=\"dataframe\">\n",
       "  <thead>\n",
       "    <tr style=\"text-align: right;\">\n",
       "      <th></th>\n",
       "      <th>restaurant name</th>\n",
       "      <th>restaurant type</th>\n",
       "      <th>rate (out of 5)</th>\n",
       "      <th>num of ratings</th>\n",
       "      <th>avg cost (two people)</th>\n",
       "      <th>online_order</th>\n",
       "      <th>table booking</th>\n",
       "      <th>cuisines type</th>\n",
       "      <th>area</th>\n",
       "      <th>local address</th>\n",
       "    </tr>\n",
       "  </thead>\n",
       "  <tbody>\n",
       "    <tr>\n",
       "      <th>0</th>\n",
       "      <td>#FeelTheROLL</td>\n",
       "      <td>Quick Bites</td>\n",
       "      <td>3.4</td>\n",
       "      <td>7</td>\n",
       "      <td>200.0</td>\n",
       "      <td>False</td>\n",
       "      <td>False</td>\n",
       "      <td>Fast Food</td>\n",
       "      <td>Bellandur</td>\n",
       "      <td>Bellandur</td>\n",
       "    </tr>\n",
       "    <tr>\n",
       "      <th>1</th>\n",
       "      <td>#L-81 Cafe</td>\n",
       "      <td>Quick Bites</td>\n",
       "      <td>3.9</td>\n",
       "      <td>48</td>\n",
       "      <td>400.0</td>\n",
       "      <td>True</td>\n",
       "      <td>False</td>\n",
       "      <td>Fast Food, Beverages</td>\n",
       "      <td>Byresandra,Tavarekere,Madiwala</td>\n",
       "      <td>HSR</td>\n",
       "    </tr>\n",
       "    <tr>\n",
       "      <th>2</th>\n",
       "      <td>#refuel</td>\n",
       "      <td>Cafe</td>\n",
       "      <td>3.7</td>\n",
       "      <td>37</td>\n",
       "      <td>400.0</td>\n",
       "      <td>True</td>\n",
       "      <td>False</td>\n",
       "      <td>Cafe, Beverages</td>\n",
       "      <td>Bannerghatta Road</td>\n",
       "      <td>Bannerghatta Road</td>\n",
       "    </tr>\n",
       "    <tr>\n",
       "      <th>3</th>\n",
       "      <td>'@ Biryani Central</td>\n",
       "      <td>Casual Dining</td>\n",
       "      <td>2.7</td>\n",
       "      <td>135</td>\n",
       "      <td>550.0</td>\n",
       "      <td>True</td>\n",
       "      <td>False</td>\n",
       "      <td>Biryani, Mughlai, Chinese</td>\n",
       "      <td>Marathahalli</td>\n",
       "      <td>Marathahalli</td>\n",
       "    </tr>\n",
       "    <tr>\n",
       "      <th>4</th>\n",
       "      <td>'@ The Bbq</td>\n",
       "      <td>Casual Dining</td>\n",
       "      <td>2.8</td>\n",
       "      <td>40</td>\n",
       "      <td>700.0</td>\n",
       "      <td>True</td>\n",
       "      <td>False</td>\n",
       "      <td>BBQ, Continental, North Indian, Chinese, Bever...</td>\n",
       "      <td>Bellandur</td>\n",
       "      <td>Bellandur</td>\n",
       "    </tr>\n",
       "  </tbody>\n",
       "</table>\n",
       "</div>"
      ],
      "text/plain": [
       "      restaurant name restaurant type  rate (out of 5)  num of ratings  \\\n",
       "0        #FeelTheROLL     Quick Bites              3.4               7   \n",
       "1          #L-81 Cafe     Quick Bites              3.9              48   \n",
       "2             #refuel            Cafe              3.7              37   \n",
       "3  '@ Biryani Central   Casual Dining              2.7             135   \n",
       "4          '@ The Bbq   Casual Dining              2.8              40   \n",
       "\n",
       "   avg cost (two people)  online_order  table booking  \\\n",
       "0                  200.0         False          False   \n",
       "1                  400.0          True          False   \n",
       "2                  400.0          True          False   \n",
       "3                  550.0          True          False   \n",
       "4                  700.0          True          False   \n",
       "\n",
       "                                       cuisines type  \\\n",
       "0                                          Fast Food   \n",
       "1                               Fast Food, Beverages   \n",
       "2                                    Cafe, Beverages   \n",
       "3                          Biryani, Mughlai, Chinese   \n",
       "4  BBQ, Continental, North Indian, Chinese, Bever...   \n",
       "\n",
       "                             area      local address  \n",
       "0                       Bellandur          Bellandur  \n",
       "1  Byresandra,Tavarekere,Madiwala                HSR  \n",
       "2               Bannerghatta Road  Bannerghatta Road  \n",
       "3                    Marathahalli       Marathahalli  \n",
       "4                       Bellandur          Bellandur  "
      ]
     },
     "execution_count": 94,
     "metadata": {},
     "output_type": "execute_result"
    }
   ],
   "source": [
    "data_file_1.head(5)"
   ]
  },
  {
   "cell_type": "code",
   "execution_count": 95,
   "metadata": {},
   "outputs": [],
   "source": [
    "data_file_1.drop(data_file_1.columns[-2],axis=1,inplace=True)"
   ]
  },
  {
   "cell_type": "code",
   "execution_count": 96,
   "metadata": {},
   "outputs": [],
   "source": [
    "data_file_1.rename(columns={'num of ratings': 'Average Customer Per Week'}, inplace=True)"
   ]
  },
  {
   "cell_type": "code",
   "execution_count": 100,
   "metadata": {},
   "outputs": [
    {
     "name": "stdout",
     "output_type": "stream",
     "text": [
      "<class 'pandas.core.frame.DataFrame'>\n",
      "RangeIndex: 7105 entries, 0 to 7104\n",
      "Data columns (total 10 columns):\n",
      " #   Column                     Non-Null Count  Dtype  \n",
      "---  ------                     --------------  -----  \n",
      " 0   restaurant name            7105 non-null   object \n",
      " 1   restaurant type            7105 non-null   object \n",
      " 2   rate (out of 5)            7105 non-null   float64\n",
      " 3   Average Customer Per Week  7105 non-null   int64  \n",
      " 4   avg cost (two people)      7048 non-null   float64\n",
      " 5   online_order               7105 non-null   bool   \n",
      " 6   table booking              7105 non-null   bool   \n",
      " 7   cuisines type              7105 non-null   object \n",
      " 8   local address              7105 non-null   object \n",
      " 9   Average income per Week    7048 non-null   float64\n",
      "dtypes: bool(2), float64(3), int64(1), object(4)\n",
      "memory usage: 458.1+ KB\n"
     ]
    }
   ],
   "source": [
    "data_file_1.info()"
   ]
  },
  {
   "cell_type": "code",
   "execution_count": 99,
   "metadata": {},
   "outputs": [],
   "source": [
    "data_file_1['Average income per Week'] = data_file_1[\"Average Customer Per Week\"] * data_file_1[\"avg cost (two people)\"]"
   ]
  },
  {
   "cell_type": "code",
   "execution_count": 101,
   "metadata": {},
   "outputs": [],
   "source": [
    "# Save DataFrame to CSV\n",
    "data_file_1.to_csv('zomato_bangalore.csv', index=False)  # Set index=False to avoid saving the index\n"
   ]
  },
  {
   "cell_type": "code",
   "execution_count": null,
   "metadata": {},
   "outputs": [],
   "source": []
  }
 ],
 "metadata": {
  "kernelspec": {
   "display_name": "Python 3",
   "language": "python",
   "name": "python3"
  },
  "language_info": {
   "codemirror_mode": {
    "name": "ipython",
    "version": 3
   },
   "file_extension": ".py",
   "mimetype": "text/x-python",
   "name": "python",
   "nbconvert_exporter": "python",
   "pygments_lexer": "ipython3",
   "version": "3.10.7"
  }
 },
 "nbformat": 4,
 "nbformat_minor": 2
}
